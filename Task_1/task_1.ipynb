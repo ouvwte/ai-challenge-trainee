{
 "cells": [
  {
   "cell_type": "markdown",
   "metadata": {},
   "source": [
    "Метрика - ROC-AUC (Receiver Operating Characteristic - Area Under Curve).\n",
    "\n",
    "Предобработка: Используйте one-hot encoding или hashing для категориальных признаков. Учитывайте высокую кардинальность некоторых столбцов.\n",
    "Базовый baseline: Логистическая регрессия или SGDClassifier (scikit-learn).\n",
    "Оптимизация: Попробуйте градиентный бустинг (LightGBM) или нейронные сети для повышения ROC-AUC.\n",
    "Кросс-валидация: Используйте 5-fold CV для оценки модели на обучающей выборке."
   ]
  },
  {
   "cell_type": "code",
   "execution_count": 9,
   "metadata": {},
   "outputs": [],
   "source": [
    "import pandas as pd \n",
    "import numpy as np \n",
    "from sklearn.model_selection import StratifiedKFold\n",
    "import lightgbm as lgb \n",
    "from sklearn.metrics import roc_auc_score\n",
    "# import warnings\n",
    "# warnings.importwarnings('ignore')"
   ]
  },
  {
   "cell_type": "code",
   "execution_count": 10,
   "metadata": {},
   "outputs": [],
   "source": [
    "train_path = ''\n",
    "test_path = '' \n",
    "chunksize = 1_000_000\n",
    "categorical_features = [f'ID_{i:02d}' for i in range(1,23)]"
   ]
  },
  {
   "cell_type": "code",
   "execution_count": 11,
   "metadata": {},
   "outputs": [],
   "source": [
    "dtypes = {'click': 'int8'}\n",
    "for col in categorical_features + ['id']:\n",
    "    dtypes[col] = 'category'"
   ]
  },
  {
   "cell_type": "code",
   "execution_count": null,
   "metadata": {},
   "outputs": [],
   "source": [
    "def calculate_smooth_mean(df, by, on, m=100):\n",
    "    mean = df.groupby(by)[on].mean()\n",
    "    count = df.groupby(by)[on].count()\n",
    "    global_mean = df[on].mean()\n",
    "    smooth = (count*mean + m*global_mean) / (count + m) \n",
    "    return smooth"
   ]
  },
  {
   "cell_type": "code",
   "execution_count": null,
   "metadata": {},
   "outputs": [],
   "source": [
    "stats = {}\n",
    "for col in categorical_features:\n",
    "    stats[col] = {}\n",
    "\n",
    "for i, chunk in enumerate(pd.read_csv(train_path, chunksize=chunksize, dtype=dtypes)):\n",
    "    for col in categorical_features:\n",
    "        group = chunk.groupby(col)['click'].agg(['sum', 'count'])\n",
    "        for cat_val, (s, c) in group.iterrows():\n",
    "            if cat_val not in stats[col]:\n",
    "                stats[col][cat_val] = [s, c]\n",
    "            else:\n",
    "                stats[col][cat_val][0] += s\n",
    "                stats[col][cat_val][1] += c"
   ]
  },
  {
   "cell_type": "code",
   "execution_count": null,
   "metadata": {},
   "outputs": [],
   "source": [
    "encodings = {}\n",
    "global_click_mean = None\n",
    "total_clicks = 0\n",
    "total_count = 0\n",
    "\n",
    "for col in stats:\n",
    "    for cat_val, (s, c) in stats[col].items():\n",
    "        total_clicks += s\n",
    "        total_count += c \n",
    "global_click_mean = total_clicks / total_count "
   ]
  },
  {
   "cell_type": "code",
   "execution_count": null,
   "metadata": {},
   "outputs": [],
   "source": [
    "m = 100\n",
    "\n",
    "for col in categorical_features:\n",
    "    encodings[col] = {}\n",
    "    for cat_val, (s, c) in stats[col].items():\n",
    "        smooth_mean = (s + m*global_click_mean) / (c + m)\n",
    "        encodings[col][cat_val] = smooth_mean\n",
    "    encodings[col]['_unknown_'] = global_click_mean"
   ]
  },
  {
   "cell_type": "code",
   "execution_count": null,
   "metadata": {},
   "outputs": [],
   "source": [
    "params = {\n",
    "    'objective': 'binary',\n",
    "    'metric': 'auc',\n",
    "    'boosting_type': 'gbdt',\n",
    "    'num_leaves': 31,\n",
    "    'learning_rate': 0.05,\n",
    "    'feature_fraction': 0.9,\n",
    "    'verbosity': -1,\n",
    "    'seed': 42,\n",
    "}\n",
    "\n",
    "model = None\n",
    "skf = StratifiedKFold(n_splits=5, shuffle=True, random_state=42)\n",
    "\n",
    "for i, chunk in enumerate(pd.read_csv(train_path, chunksize=chunksize, dtype=dtypes)):\n",
    "    X_chunk = pd.DataFrame()\n",
    "    for col in categorical_features:\n",
    "        X_chunk[col] = chunk[col].map(encodings[col]).fillna(globak_click_mean).astype('float32')\n",
    "    y_chunk = chunk['click'].astype['int8']\n",
    "\n",
    "    if model is None:\n",
    "        model = lgb.LGBMClassifier(**params, n_estimators=1000)\n",
    "        model.fit(X_chunk, y_chunk)\n",
    "    else:\n",
    "        model = lgb.LGBMClassifier(**params, n_estimators=100)\n",
    "        model.fit(X_chunk, y_chunk, init_model=model)"
   ]
  },
  {
   "cell_type": "code",
   "execution_count": null,
   "metadata": {},
   "outputs": [],
   "source": [
    "test_chunks = pd.read_csv(test_path, chunksize=chunksize, dtype={col: 'category' for col in categorical_features + ['id']})\n",
    "predictions = []\n",
    "\n",
    "for i, chunk in enumerate(test_chunks):\n",
    "    X_test = pd.DataFrame()\n",
    "    for col in categorical_features:\n",
    "        X_test[col] = chunk[col].map(encodings[col]).fillna(globak_click_mean).astype('float32')\n",
    "    \n",
    "    chunk_preds = model.predict_proba(X_test)[:, 1]\n",
    "    \n",
    "    results = pd.DataFrame({'id': chunk['id'], 'click': chunk_preds})\n",
    "    predictions.append(results)\n",
    "\n",
    "final_predictions = pd.concat(predictions, ignore_index=True)"
   ]
  },
  {
   "cell_type": "code",
   "execution_count": null,
   "metadata": {},
   "outputs": [],
   "source": [
    "final_predictions.to_csv('my_submission.csv', index=False)"
   ]
  }
 ],
 "metadata": {
  "kernelspec": {
   "display_name": "Python 3",
   "language": "python",
   "name": "python3"
  },
  "language_info": {
   "codemirror_mode": {
    "name": "ipython",
    "version": 3
   },
   "file_extension": ".py",
   "mimetype": "text/x-python",
   "name": "python",
   "nbconvert_exporter": "python",
   "pygments_lexer": "ipython3",
   "version": "3.12.3"
  }
 },
 "nbformat": 4,
 "nbformat_minor": 2
}
